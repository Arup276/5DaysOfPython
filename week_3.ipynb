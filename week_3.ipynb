{
 "cells": [
  {
   "cell_type": "markdown",
   "metadata": {},
   "source": [
    "# ----------------------------------\n",
    "# Week - 3\n",
    "\n",
    "Day - 1 : Classes and Objects\n",
    "\n",
    "Day - 2 : File Handling\n",
    "\n",
    "Day - 3, 4 : Email template generation and formatting\n",
    "\n",
    "Day - 5 : 1 individual use case\n",
    "\n",
    "\n",
    "### Day - 11\n",
    "\n",
    "24-06-2024\n"
   ]
  },
  {
   "cell_type": "markdown",
   "metadata": {},
   "source": [
    "### Classes and Objects\n",
    "\n",
    "Python is an *object oriented programming* language.\n",
    "\n",
    "Almost everything in Python is an **object**, with its properties and methods.\n",
    "\n",
    "A Class is like an object constructor, or a \"blueprint\" for creating objects."
   ]
  },
  {
   "cell_type": "code",
   "execution_count": null,
   "metadata": {},
   "outputs": [],
   "source": [
    "# defining class\n",
    "class myClass:\n",
    "    my_var = 10\n",
    "\n",
    "    def __init__(self):\n",
    "        self.my_var = 10\n",
    "\n",
    "    def my_func(self):\n",
    "        print(\"Function call\")\n",
    "\n",
    "    def cout(self):\n",
    "        pass\n",
    "\n",
    "    def index(self):\n",
    "        pass"
   ]
  },
  {
   "cell_type": "code",
   "execution_count": null,
   "metadata": {},
   "outputs": [],
   "source": [
    "class myClass:\n",
    "    def test_func(self):\n",
    "        pass"
   ]
  },
  {
   "cell_type": "code",
   "execution_count": null,
   "metadata": {},
   "outputs": [],
   "source": [
    "my_class_obj = myClass()"
   ]
  },
  {
   "cell_type": "code",
   "execution_count": null,
   "metadata": {},
   "outputs": [],
   "source": [
    "my_class_obj.test_func()"
   ]
  },
  {
   "cell_type": "code",
   "execution_count": null,
   "metadata": {},
   "outputs": [],
   "source": [
    "lang = \"Python\""
   ]
  },
  {
   "cell_type": "code",
   "execution_count": null,
   "metadata": {},
   "outputs": [],
   "source": []
  },
  {
   "cell_type": "code",
   "execution_count": null,
   "metadata": {},
   "outputs": [],
   "source": [
    "my_class_obj = myClass()"
   ]
  },
  {
   "cell_type": "code",
   "execution_count": null,
   "metadata": {},
   "outputs": [],
   "source": [
    "dir(my_class_obj)"
   ]
  },
  {
   "cell_type": "code",
   "execution_count": null,
   "metadata": {},
   "outputs": [],
   "source": [
    "lan = \"Python\""
   ]
  },
  {
   "cell_type": "code",
   "execution_count": null,
   "metadata": {},
   "outputs": [],
   "source": [
    "dir(lan)"
   ]
  },
  {
   "cell_type": "code",
   "execution_count": null,
   "metadata": {},
   "outputs": [],
   "source": []
  },
  {
   "cell_type": "code",
   "execution_count": null,
   "metadata": {},
   "outputs": [],
   "source": []
  },
  {
   "cell_type": "code",
   "execution_count": null,
   "metadata": {},
   "outputs": [],
   "source": []
  },
  {
   "cell_type": "code",
   "execution_count": null,
   "metadata": {},
   "outputs": [],
   "source": []
  },
  {
   "cell_type": "code",
   "execution_count": null,
   "metadata": {},
   "outputs": [],
   "source": [
    "var = 10"
   ]
  },
  {
   "cell_type": "code",
   "execution_count": null,
   "metadata": {},
   "outputs": [],
   "source": [
    "class MyClassName:\n",
    "    def __init__(self, my_name):\n",
    "        self.my_name = my_name\n",
    "\n",
    "        print(f'{self.my_name} : {my_name}')\n",
    "\n",
    "    def my_function(self):\n",
    "        print(f\"name is {self.my_name}\")\n",
    "        "
   ]
  },
  {
   "cell_type": "code",
   "execution_count": null,
   "metadata": {},
   "outputs": [],
   "source": []
  },
  {
   "cell_type": "code",
   "execution_count": null,
   "metadata": {},
   "outputs": [],
   "source": [
    "class CustomMath:\n",
    "    def add(self, n1, n2):\n",
    "        #return self.num1 + self.num2\n",
    "        print(f\"Adding two number: \")\n",
    "        return n1+n2\n",
    "    \n",
    "    def sub(self, n1, n2):\n",
    "        return n1-n2\n",
    "    \n",
    "    "
   ]
  },
  {
   "cell_type": "code",
   "execution_count": null,
   "metadata": {},
   "outputs": [],
   "source": [
    "CustomMath().add(13,2)"
   ]
  },
  {
   "cell_type": "code",
   "execution_count": null,
   "metadata": {},
   "outputs": [],
   "source": [
    "my_custom_math = CustomMath()"
   ]
  },
  {
   "cell_type": "code",
   "execution_count": null,
   "metadata": {},
   "outputs": [],
   "source": [
    "my_custom_math.add()"
   ]
  },
  {
   "cell_type": "code",
   "execution_count": null,
   "metadata": {},
   "outputs": [],
   "source": [
    "my_custom_math.sub(13,2)"
   ]
  },
  {
   "cell_type": "code",
   "execution_count": null,
   "metadata": {},
   "outputs": [],
   "source": []
  },
  {
   "cell_type": "code",
   "execution_count": null,
   "metadata": {},
   "outputs": [],
   "source": []
  },
  {
   "cell_type": "code",
   "execution_count": null,
   "metadata": {},
   "outputs": [],
   "source": [
    "my_cls = MyClassName(\"Python\")"
   ]
  },
  {
   "cell_type": "code",
   "execution_count": null,
   "metadata": {},
   "outputs": [],
   "source": [
    "my_cls.my_function()"
   ]
  },
  {
   "cell_type": "code",
   "execution_count": null,
   "metadata": {},
   "outputs": [],
   "source": [
    "my_test_func()"
   ]
  },
  {
   "cell_type": "code",
   "execution_count": null,
   "metadata": {},
   "outputs": [],
   "source": [
    "myClass()"
   ]
  },
  {
   "cell_type": "code",
   "execution_count": null,
   "metadata": {},
   "outputs": [],
   "source": [
    "my_class_object = myClass()"
   ]
  },
  {
   "cell_type": "code",
   "execution_count": null,
   "metadata": {},
   "outputs": [],
   "source": [
    "my_class_object.my_func()"
   ]
  },
  {
   "cell_type": "code",
   "execution_count": null,
   "metadata": {},
   "outputs": [],
   "source": [
    "my_class_obj.my_var"
   ]
  },
  {
   "cell_type": "code",
   "execution_count": null,
   "metadata": {},
   "outputs": [],
   "source": [
    "'''\n",
    "The self parameter is a reference to the current instance of the class,\n",
    "and is used to access variables that belongs to the class.\n",
    "'''\n",
    "\n",
    "class Car:\n",
    "    def __init__(self, name):   # Constractor, this function got executed when we create object of the class\n",
    "        self.name = name\n",
    "\n",
    "    def set_color(self, color):\n",
    "        self.color = color\n",
    "        print(f\"{self.name} color set to {self.color}\")"
   ]
  },
  {
   "cell_type": "code",
   "execution_count": null,
   "metadata": {},
   "outputs": [],
   "source": [
    "my_car = Car(\"Volvo\")"
   ]
  },
  {
   "cell_type": "code",
   "execution_count": null,
   "metadata": {},
   "outputs": [],
   "source": [
    "my_car = Car(\"Volvo XC90\")"
   ]
  },
  {
   "cell_type": "code",
   "execution_count": null,
   "metadata": {},
   "outputs": [],
   "source": [
    "my_car.name"
   ]
  },
  {
   "cell_type": "code",
   "execution_count": null,
   "metadata": {},
   "outputs": [],
   "source": [
    "my_car.name"
   ]
  },
  {
   "cell_type": "code",
   "execution_count": null,
   "metadata": {},
   "outputs": [],
   "source": [
    "my_car.set_color(\"Black\")"
   ]
  },
  {
   "cell_type": "code",
   "execution_count": null,
   "metadata": {},
   "outputs": [],
   "source": [
    "lan = \"Python\""
   ]
  },
  {
   "cell_type": "code",
   "execution_count": null,
   "metadata": {},
   "outputs": [],
   "source": [
    "name = \"Arup\""
   ]
  },
  {
   "cell_type": "code",
   "execution_count": null,
   "metadata": {},
   "outputs": [],
   "source": [
    "dir(lan)"
   ]
  },
  {
   "cell_type": "code",
   "execution_count": null,
   "metadata": {},
   "outputs": [],
   "source": [
    "dir(name)"
   ]
  },
  {
   "cell_type": "code",
   "execution_count": null,
   "metadata": {},
   "outputs": [],
   "source": [
    "class Employee:\n",
    "    def __init__(self, fname, lname):\n",
    "        self.fname = fname\n",
    "        self.lname = lname\n",
    "        self.skills = []\n",
    "\n",
    "        print(\"Calling __init__\")\n",
    "\n",
    "    def set_empid(self, emp_id):\n",
    "        self.emp_id = emp_id\n",
    "        print(\"Calling set_empid\")\n",
    "\n",
    "    def get_empid(self):\n",
    "        return self.emp_id\n",
    "    \n",
    "    def get_email(self):\n",
    "        return f'{self.fname}.{self.lname}@dxc.com'.lower()\n",
    "    \n",
    "    def add_skills(self, skill):\n",
    "        self.skills.append(skill)\n",
    "        print(f'New skill \"{skill}\" added to {self.fname}\\'s skill list')\n",
    "\n",
    "    def get_skills(self):\n",
    "        return self.skills"
   ]
  },
  {
   "cell_type": "code",
   "execution_count": null,
   "metadata": {},
   "outputs": [],
   "source": [
    "emp_1 = Employee(\"Arup\", \"Das\")"
   ]
  },
  {
   "cell_type": "code",
   "execution_count": null,
   "metadata": {},
   "outputs": [],
   "source": [
    "emp_1.get_email()"
   ]
  },
  {
   "cell_type": "code",
   "execution_count": null,
   "metadata": {},
   "outputs": [],
   "source": [
    "emp_2 = Employee(\"Shiva\", \"Shankar\")"
   ]
  },
  {
   "cell_type": "code",
   "execution_count": null,
   "metadata": {},
   "outputs": [],
   "source": [
    "emp_2.get_email()"
   ]
  },
  {
   "cell_type": "code",
   "execution_count": null,
   "metadata": {},
   "outputs": [],
   "source": []
  },
  {
   "cell_type": "code",
   "execution_count": null,
   "metadata": {},
   "outputs": [],
   "source": [
    "emp_1.set_empid(\"98765\")"
   ]
  },
  {
   "cell_type": "code",
   "execution_count": null,
   "metadata": {},
   "outputs": [],
   "source": []
  },
  {
   "cell_type": "code",
   "execution_count": null,
   "metadata": {},
   "outputs": [],
   "source": [
    "emp_1 = Employee(\"Arup\", \"Das\")"
   ]
  },
  {
   "cell_type": "code",
   "execution_count": null,
   "metadata": {},
   "outputs": [],
   "source": [
    "dir(emp_1)"
   ]
  },
  {
   "cell_type": "code",
   "execution_count": null,
   "metadata": {},
   "outputs": [],
   "source": [
    "emp_2 = Employee(\"Rajeev\", \"Jha\")"
   ]
  },
  {
   "cell_type": "code",
   "execution_count": null,
   "metadata": {},
   "outputs": [],
   "source": [
    "emp_2.get_email()"
   ]
  },
  {
   "cell_type": "code",
   "execution_count": null,
   "metadata": {},
   "outputs": [],
   "source": [
    "emp_1.get_email()"
   ]
  },
  {
   "cell_type": "code",
   "execution_count": null,
   "metadata": {},
   "outputs": [],
   "source": [
    "\"Python\".lower()"
   ]
  },
  {
   "cell_type": "code",
   "execution_count": null,
   "metadata": {},
   "outputs": [],
   "source": [
    "emp_1.set_empid(11619764)"
   ]
  },
  {
   "cell_type": "code",
   "execution_count": null,
   "metadata": {},
   "outputs": [],
   "source": [
    "emp_1.get_empid()"
   ]
  },
  {
   "cell_type": "code",
   "execution_count": null,
   "metadata": {},
   "outputs": [],
   "source": [
    "emp_1.get_email()"
   ]
  },
  {
   "cell_type": "code",
   "execution_count": null,
   "metadata": {},
   "outputs": [],
   "source": [
    "emp_1.add_skills(\"Python\")\n",
    "emp_1.get_skills()"
   ]
  },
  {
   "cell_type": "code",
   "execution_count": null,
   "metadata": {},
   "outputs": [],
   "source": [
    "emp_1.add_skills(\"JavaScript\")\n",
    "emp_1.add_skills(\"Shell Scripting\")\n",
    "emp_1.add_skills(\"PowerShell Scripting\")"
   ]
  },
  {
   "cell_type": "code",
   "execution_count": null,
   "metadata": {},
   "outputs": [],
   "source": [
    "emp_1.get_skills()"
   ]
  },
  {
   "cell_type": "code",
   "execution_count": null,
   "metadata": {},
   "outputs": [],
   "source": []
  },
  {
   "cell_type": "markdown",
   "metadata": {},
   "source": [
    "### Day - 11 Questions\n",
    "\n",
    "1. Create a class Rectangle with attributes width and height. Include a method area() that calculates and returns the area of the rectangle. Create an object rect with width 5 and height 10, and print its area.\n",
    "\n",
    "2. Define a class Person with a constructor __init__() that initializes name and job title attributes. Create an object person1 with your name and your job title.\n",
    "\n",
    "3. Create CustomMath class with add(), sub(), mul() and div() methods then create a object of it and call each function."
   ]
  },
  {
   "cell_type": "markdown",
   "metadata": {},
   "source": []
  },
  {
   "cell_type": "code",
   "execution_count": null,
   "metadata": {},
   "outputs": [],
   "source": [
    "# 1.\n",
    "\n",
    "class Rectangle:\n",
    "    def __init__(self, width, height):\n",
    "        self.width = width\n",
    "        self.height = height\n",
    "\n",
    "    def area(self):\n",
    "        return self.width*self.height"
   ]
  },
  {
   "cell_type": "code",
   "execution_count": null,
   "metadata": {},
   "outputs": [],
   "source": [
    "# 1.\n",
    "\n",
    "class Rectangle_2:\n",
    "    def area(self, width, height):\n",
    "        return width*height"
   ]
  },
  {
   "cell_type": "code",
   "execution_count": null,
   "metadata": {},
   "outputs": [],
   "source": [
    "rect = Rectangle(5, 10)"
   ]
  },
  {
   "cell_type": "code",
   "execution_count": null,
   "metadata": {},
   "outputs": [],
   "source": [
    "rect_2 = Rectangle_2()"
   ]
  },
  {
   "cell_type": "code",
   "execution_count": null,
   "metadata": {},
   "outputs": [],
   "source": [
    "widht = int(input())\n",
    "rect_2.area(widht, 10)"
   ]
  },
  {
   "cell_type": "code",
   "execution_count": null,
   "metadata": {},
   "outputs": [],
   "source": [
    "rect.area()"
   ]
  },
  {
   "cell_type": "code",
   "execution_count": null,
   "metadata": {},
   "outputs": [],
   "source": [
    "# 2. Define a class Person with a constructor __init__() that initializes name and job title attributes. Create an object person1 with your name and your job title.\n",
    "\n",
    "\n",
    "class Person:\n",
    "    def __init__(self, name, job_title):\n",
    "        self.name = name\n",
    "        self.job_title = job_title\n",
    "    "
   ]
  },
  {
   "cell_type": "code",
   "execution_count": null,
   "metadata": {},
   "outputs": [],
   "source": [
    "person1 = Person(\"Arup Das\", \"UNIX SA\")"
   ]
  },
  {
   "cell_type": "code",
   "execution_count": null,
   "metadata": {},
   "outputs": [],
   "source": [
    "print(person1.name)\n",
    "print(person1.job_title)"
   ]
  },
  {
   "cell_type": "code",
   "execution_count": null,
   "metadata": {},
   "outputs": [],
   "source": [
    "# 3. Create CustomMath class with add(), sub(), mul() and div() methods then create a object of it and call each function.\n",
    "\n",
    "class CustomMath:\n",
    "    def __init__(self, num1, num2):\n",
    "        self.num1 = num1\n",
    "        self.num2 = num2\n",
    "\n",
    "    def add(self):\n",
    "        return self.num1 + self.num2\n",
    "\n",
    "    def sub(self):\n",
    "        return self.num1 - self.num2\n"
   ]
  },
  {
   "cell_type": "code",
   "execution_count": null,
   "metadata": {},
   "outputs": [],
   "source": [
    "class CustomMath_2:\n",
    "    def add(self, num1, num2):\n",
    "        return num1 + num2\n",
    "    \n",
    "    def sub(self, num1, num2):\n",
    "        return num1 - num2\n",
    "    \n",
    "    def mul(self, num1, num2):\n",
    "        return num1 * num2\n",
    "    \n",
    "    def div(self, num1, num2):\n",
    "        return num1 // num2\n",
    "    "
   ]
  },
  {
   "cell_type": "code",
   "execution_count": null,
   "metadata": {},
   "outputs": [],
   "source": [
    "cus_math_1 = CustomMath(5, 3)"
   ]
  },
  {
   "cell_type": "code",
   "execution_count": null,
   "metadata": {},
   "outputs": [],
   "source": [
    "cus_math_1.add()"
   ]
  },
  {
   "cell_type": "code",
   "execution_count": null,
   "metadata": {},
   "outputs": [],
   "source": [
    "cus_math_1.sub()"
   ]
  },
  {
   "cell_type": "code",
   "execution_count": null,
   "metadata": {},
   "outputs": [],
   "source": [
    "cus_math_2 = CustomMath_2()"
   ]
  },
  {
   "cell_type": "code",
   "execution_count": null,
   "metadata": {},
   "outputs": [],
   "source": [
    "cus_math_2.add(10, 2)"
   ]
  },
  {
   "cell_type": "code",
   "execution_count": null,
   "metadata": {},
   "outputs": [],
   "source": [
    "cus_math_2.mul(3, 2)"
   ]
  },
  {
   "cell_type": "code",
   "execution_count": null,
   "metadata": {},
   "outputs": [],
   "source": [
    "cus_math_2.sub(13, 2)"
   ]
  },
  {
   "cell_type": "code",
   "execution_count": null,
   "metadata": {},
   "outputs": [],
   "source": [
    "cus_math_2.div(15, 3)"
   ]
  },
  {
   "cell_type": "code",
   "execution_count": null,
   "metadata": {},
   "outputs": [],
   "source": [
    "print(cus_math_2.mul(3, 2))\n",
    "print(cus_math_2.add(3, 2))\n",
    "print(cus_math_2.sub(3, 2))"
   ]
  },
  {
   "cell_type": "markdown",
   "metadata": {},
   "source": [
    "### Day 12 - Recap on Classes and Objects - 25-06-2024\n",
    "\n",
    "1. Define a class Animal with attributes name and sound. Include a method make_sound() that prints the sound of the animal. Create an instance of Animal and call the make_sound() method.\n",
    "2. Create a class Book with attributes title, author, and type. Include a constructor to initialize these attributes and create a method print_details() that returns book details in 'type -> title -> author' this format. Create a 3 instances of Book class and print their details.\n"
   ]
  },
  {
   "cell_type": "code",
   "execution_count": null,
   "metadata": {},
   "outputs": [],
   "source": [
    "class Animal:\n",
    "    def __init__(self, name, sound):\n",
    "        self.name = name\n",
    "        self.sound = sound\n",
    "\n",
    "    def make_sound(self):\n",
    "        return f'{self.name} makes {self.sound}'"
   ]
  },
  {
   "cell_type": "code",
   "execution_count": null,
   "metadata": {},
   "outputs": [],
   "source": [
    "animal = Animal(\"Cow\", \"Mooo\")"
   ]
  },
  {
   "cell_type": "code",
   "execution_count": null,
   "metadata": {},
   "outputs": [],
   "source": [
    "animal.make_sound()"
   ]
  },
  {
   "cell_type": "code",
   "execution_count": null,
   "metadata": {},
   "outputs": [],
   "source": [
    "class Book:\n",
    "    def __init__(self, title, author, type):\n",
    "        self.title = title\n",
    "        self.author = author\n",
    "        self.type = type\n",
    "\n",
    "    def print_details(self):\n",
    "        return f'{self.type} -> {self.title} -> {self.title}'"
   ]
  },
  {
   "cell_type": "code",
   "execution_count": null,
   "metadata": {},
   "outputs": [],
   "source": [
    "book_1 = Book(\"The leader in you\", \"Dale\", \"Self Improvement\")"
   ]
  },
  {
   "cell_type": "code",
   "execution_count": null,
   "metadata": {},
   "outputs": [],
   "source": [
    "book_2 = Book(\"How to win friends\", \"Dale\", \"Communication\")"
   ]
  },
  {
   "cell_type": "code",
   "execution_count": null,
   "metadata": {},
   "outputs": [],
   "source": [
    "book_3 = Book(\"How to win friends 2\", \"Dale\", \"Communication\")"
   ]
  },
  {
   "cell_type": "code",
   "execution_count": null,
   "metadata": {},
   "outputs": [],
   "source": [
    "print(book_1.print_details())\n",
    "print(book_2.print_details())\n",
    "print(book_3.print_details())"
   ]
  },
  {
   "cell_type": "markdown",
   "metadata": {},
   "source": [
    "# -------------------------------------\n",
    "# Day - 13\n",
    "26-06-2024\n",
    "\n",
    "### File Handling in Python"
   ]
  },
  {
   "cell_type": "markdown",
   "metadata": {},
   "source": [
    "#### Reading a file"
   ]
  },
  {
   "cell_type": "code",
   "execution_count": null,
   "metadata": {},
   "outputs": [],
   "source": [
    "# Open the file in read mode\n",
    "file = open(\"users.txt\", \"r\")\n",
    "\n",
    "# read whole content\n",
    "file.read()\n",
    "\n",
    "# close the file\n",
    "file.close()"
   ]
  },
  {
   "cell_type": "code",
   "execution_count": null,
   "metadata": {},
   "outputs": [],
   "source": [
    "file = open(\"users.txt\", \"r\")"
   ]
  },
  {
   "cell_type": "code",
   "execution_count": null,
   "metadata": {},
   "outputs": [],
   "source": [
    "file.read(1200)"
   ]
  },
  {
   "cell_type": "code",
   "execution_count": null,
   "metadata": {},
   "outputs": [],
   "source": [
    "file.read()"
   ]
  },
  {
   "cell_type": "code",
   "execution_count": null,
   "metadata": {},
   "outputs": [],
   "source": [
    "file.close()"
   ]
  },
  {
   "cell_type": "code",
   "execution_count": null,
   "metadata": {},
   "outputs": [],
   "source": [
    "# Open file with full location\n",
    "\n",
    "# C:\\\\My D\\PythonLearnings\\5 Days of python\\Modules\\another_file.txt\n",
    "\n",
    "file = open(\"C:\\\\My D\\\\PythonLearnings\\\\5 Days of python\\\\Modules\\\\another_file.txt\", 'r')\n",
    "print(file.read())\n",
    "file.close()"
   ]
  },
  {
   "cell_type": "code",
   "execution_count": null,
   "metadata": {},
   "outputs": [],
   "source": [
    "# File handling using with - ** Best way **\n",
    "\n",
    "# Reading the entire file\n",
    "with open('users.txt', 'r') as file:\n",
    "    content = file.read()\n",
    "    print(content)\n"
   ]
  },
  {
   "cell_type": "code",
   "execution_count": null,
   "metadata": {},
   "outputs": [],
   "source": [
    "file = open(file_path, mode)\n",
    "file.close()\n",
    "\n"
   ]
  },
  {
   "cell_type": "code",
   "execution_count": null,
   "metadata": {},
   "outputs": [],
   "source": [
    "with open(\"users.txt\", \"r\") as anything:\n",
    "    print(anything.read(10))"
   ]
  },
  {
   "cell_type": "code",
   "execution_count": null,
   "metadata": {},
   "outputs": [],
   "source": [
    "file.read()"
   ]
  },
  {
   "cell_type": "code",
   "execution_count": null,
   "metadata": {},
   "outputs": [],
   "source": [
    "\n",
    "with open(\"users.txt\", \"r\") as file:\n",
    "    for line in file:\n",
    "        print(line, end='')\n"
   ]
  },
  {
   "cell_type": "code",
   "execution_count": null,
   "metadata": {},
   "outputs": [],
   "source": [
    "print(\"line 1\", end= '')\n",
    "print(\"line 2\")"
   ]
  },
  {
   "cell_type": "code",
   "execution_count": null,
   "metadata": {},
   "outputs": [],
   "source": [
    "rjha53@dxc.com\n",
    "antonit.sophia@dxc.com\n",
    "y.venkatachaitanya@dxc.com\n",
    "RUPESH.MADDI@dxc.com\n",
    "satyakumar.ind.srinivasan@dxc.com\n",
    "padmini.suryanarayanan@dxc.com\n",
    "navina.v-r@dxc.com\n",
    "prajval.v1@dxc.com\n",
    "shiva-shankar.nataraj@dxc.com\n",
    "chetana.jagadeesh@dxc.com\n",
    "antonit.sophia@dxc.com\n",
    "s.komatigunta@dxc.com"
   ]
  },
  {
   "cell_type": "code",
   "execution_count": null,
   "metadata": {},
   "outputs": [],
   "source": [
    "# Reading line by line\n",
    "with open('docs.txt', 'r') as file:\n",
    "    for line in file:\n",
    "        print(line, end='')  # end='' to remove extra new line i.e. '\\n' | file.readlines()"
   ]
  },
  {
   "cell_type": "markdown",
   "metadata": {},
   "source": [
    "#### Writing to a file"
   ]
  },
  {
   "cell_type": "code",
   "execution_count": null,
   "metadata": {},
   "outputs": [],
   "source": [
    "with open(\"test_write.txt\", \"w\") as w_file:\n",
    "    w_file.write(\"This is line 1\\n\")\n",
    "    w_file.write(\"This is line 3\\n\")"
   ]
  },
  {
   "cell_type": "code",
   "execution_count": null,
   "metadata": {},
   "outputs": [],
   "source": [
    "with open(\"test_write.txt\", \"a\") as file:\n",
    "    file.write(\"This is another line\\n\")"
   ]
  },
  {
   "cell_type": "code",
   "execution_count": null,
   "metadata": {},
   "outputs": [],
   "source": [
    "with open(\"users.txt\", \"a\") as file:\n",
    "    file.write(\"\\nabc2@dxc.com\\n\")"
   ]
  },
  {
   "cell_type": "code",
   "execution_count": null,
   "metadata": {},
   "outputs": [],
   "source": [
    "with open(\"blalaaa_users.txt\", \"r\") as file:\n",
    "    file.write(\"\\nabc2@dxc.com\\n\")"
   ]
  },
  {
   "cell_type": "markdown",
   "metadata": {},
   "source": [
    "#### File error handling"
   ]
  },
  {
   "cell_type": "code",
   "execution_count": null,
   "metadata": {},
   "outputs": [],
   "source": [
    "try:\n",
    "    with open('holla.txt', 'r') as file:\n",
    "        content = file.read()\n",
    "except FileNotFoundError:\n",
    "    print(\"File not found.\")\n",
    "    with open(\"holla.txt\", \"a\") as file:\n",
    "        file.write(\"usr_name: \")\n",
    "        print(\"Please add your user_name to holla.txt\")\n",
    "except:\n",
    "    print(\"An error occurred while handling the file.\")"
   ]
  },
  {
   "cell_type": "markdown",
   "metadata": {},
   "source": [
    "### Day - 13 Question\n",
    "26-06-2024\n",
    "\n",
    "1. Write a function count_word(word) that returns the occurance count of a given word from a file.\n",
    "\n",
    "2. Take 5 lines from the user and save it in a file."
   ]
  },
  {
   "cell_type": "code",
   "execution_count": null,
   "metadata": {},
   "outputs": [],
   "source": [
    "def count_word(word):\n",
    "    with open(\"docs.txt\", \"r\") as file:\n",
    "        content = file.read().lower()\n",
    "        return content.count(word)"
   ]
  },
  {
   "cell_type": "code",
   "execution_count": null,
   "metadata": {},
   "outputs": [],
   "source": [
    "file = open(\"users.txt\", \"r\")\n",
    "file.close()"
   ]
  },
  {
   "cell_type": "code",
   "execution_count": null,
   "metadata": {},
   "outputs": [],
   "source": [
    "with open(\"users.txt\", \"r\") as file:\n",
    "    file.read()"
   ]
  },
  {
   "cell_type": "code",
   "execution_count": null,
   "metadata": {},
   "outputs": [],
   "source": [
    "\"Python is the best, best\".count(\"is\")"
   ]
  },
  {
   "cell_type": "code",
   "execution_count": null,
   "metadata": {},
   "outputs": [],
   "source": [
    "count_word(\"open\")"
   ]
  },
  {
   "cell_type": "code",
   "execution_count": null,
   "metadata": {},
   "outputs": [],
   "source": [
    "def count_word(word):\n",
    "    count = 0\n",
    "    with open(\"docs.txt\", 'r') as file:\n",
    "        for line in file.readlines():\n",
    "            # print(line, \"Count : \", line.count(word.lower()))\n",
    "            # count += line.count(word.lower())\n",
    "            count += line.lower().count(word.lower())\n",
    "    return count"
   ]
  },
  {
   "cell_type": "code",
   "execution_count": null,
   "metadata": {},
   "outputs": [],
   "source": [
    "count_word(\"file\")"
   ]
  },
  {
   "cell_type": "code",
   "execution_count": null,
   "metadata": {},
   "outputs": [],
   "source": [
    "def insert_user_line(line):\n",
    "    with open(\"user_lines.txt\", 'a') as file:\n",
    "        file.write(line+\"\\n\")\n"
   ]
  },
  {
   "cell_type": "code",
   "execution_count": null,
   "metadata": {},
   "outputs": [],
   "source": [
    "def inset_user_line(line):\n",
    "    with open(\"any_file_name.txt\", \"a\") as file:\n",
    "        file.write(f'{line} \\n')"
   ]
  },
  {
   "cell_type": "code",
   "execution_count": null,
   "metadata": {},
   "outputs": [],
   "source": [
    "print(\"This is a line\"+\"\\n\")"
   ]
  },
  {
   "cell_type": "code",
   "execution_count": null,
   "metadata": {},
   "outputs": [],
   "source": [
    "for i in range(10):\n",
    "    inset_user_line(f\"{i}\")"
   ]
  },
  {
   "cell_type": "code",
   "execution_count": null,
   "metadata": {},
   "outputs": [],
   "source": [
    "for i in range(5):\n",
    "    line = input(\"Enter the line\")\n",
    "    insert_user_line(line)"
   ]
  },
  {
   "cell_type": "code",
   "execution_count": null,
   "metadata": {},
   "outputs": [],
   "source": []
  },
  {
   "cell_type": "markdown",
   "metadata": {},
   "source": [
    "# -----------------------------------\n",
    "# Day - 14\n",
    "\n",
    "27-06-2024\n",
    "\n",
    "### Mail automation\n"
   ]
  },
  {
   "cell_type": "code",
   "execution_count": null,
   "metadata": {},
   "outputs": [],
   "source": [
    "# Demo\n",
    "\n",
    "import win32com.client as client\n",
    "\n",
    "outlook = client.Dispatch('Outlook.Application')  # This is the programmatic identifier (ProgID) for the Outlook \n",
    "message = outlook.CreateItem(0)  # Create empty mail \n",
    "message.To = 'arup.das@dxc.com'\n",
    "# message.cc = 'comms@dxc.com'\n",
    "message.subject = \"This is a awesome subject line\"\n",
    "message.HTMLBody = '''\n",
    "<p>Hey there!!</p>\n",
    "\n",
    "<p>How are you doing??</p>\n",
    "\n",
    "<p> <b>Note</b>: This is an automated mail using Python pywin32 module.</p>\n",
    "'''\n",
    "message.Display()\n",
    "# message.Send()"
   ]
  },
  {
   "cell_type": "code",
   "execution_count": null,
   "metadata": {},
   "outputs": [],
   "source": [
    "# Required module \"pywin32\""
   ]
  },
  {
   "cell_type": "code",
   "execution_count": null,
   "metadata": {},
   "outputs": [],
   "source": [
    "pip install pywin32"
   ]
  },
  {
   "cell_type": "code",
   "execution_count": null,
   "metadata": {},
   "outputs": [],
   "source": [
    "import win32com.client as client"
   ]
  },
  {
   "cell_type": "code",
   "execution_count": null,
   "metadata": {},
   "outputs": [],
   "source": [
    "outlook = client.Dispatch('outlook.Application')"
   ]
  },
  {
   "cell_type": "code",
   "execution_count": null,
   "metadata": {},
   "outputs": [],
   "source": [
    "mail = outlook.CreateItem(0)\n"
   ]
  },
  {
   "cell_type": "code",
   "execution_count": null,
   "metadata": {},
   "outputs": [],
   "source": [
    "mail.To = \"arup.das@dxc.com\""
   ]
  },
  {
   "cell_type": "code",
   "execution_count": null,
   "metadata": {},
   "outputs": [],
   "source": [
    "mail.Cc = \"arup.das@dxc.com\""
   ]
  },
  {
   "cell_type": "code",
   "execution_count": null,
   "metadata": {},
   "outputs": [],
   "source": [
    "mail.Subject = \"This is an awesome subject\""
   ]
  },
  {
   "cell_type": "code",
   "execution_count": null,
   "metadata": {},
   "outputs": [],
   "source": [
    "mail.Body = \"Hey there!!\""
   ]
  },
  {
   "cell_type": "code",
   "execution_count": null,
   "metadata": {},
   "outputs": [],
   "source": [
    "my_name = \"Arup\""
   ]
  },
  {
   "cell_type": "code",
   "execution_count": null,
   "metadata": {},
   "outputs": [],
   "source": [
    "mail.HTMLBody = f'''\n",
    "Hey {my_name}!!\n",
    "<br><br>\n",
    "How are you doing??\n",
    "\n",
    "\n",
    "\n",
    "<br><br><br><br>\n",
    "NOTE: This is an automated mail\n",
    "'''"
   ]
  },
  {
   "cell_type": "code",
   "execution_count": null,
   "metadata": {},
   "outputs": [],
   "source": [
    "mail.Attachments.Add(\"C:\\\\My D\\\\PythonLearnings\\\\5 Days of python\\\\users.txt\")\n",
    "mail.Attachments.Add(\"C:\\\\My D\\\\PythonLearnings\\\\5 Days of python\\\\holla.txt\")"
   ]
  },
  {
   "cell_type": "code",
   "execution_count": null,
   "metadata": {},
   "outputs": [],
   "source": [
    "f\"This is a \\\\sentence\""
   ]
  },
  {
   "cell_type": "code",
   "execution_count": null,
   "metadata": {},
   "outputs": [],
   "source": [
    "\"This is a \\sentence\""
   ]
  },
  {
   "cell_type": "code",
   "execution_count": null,
   "metadata": {},
   "outputs": [],
   "source": [
    "mail.Display()"
   ]
  },
  {
   "cell_type": "code",
   "execution_count": null,
   "metadata": {},
   "outputs": [],
   "source": [
    "mail.Send()"
   ]
  },
  {
   "cell_type": "code",
   "execution_count": null,
   "metadata": {},
   "outputs": [],
   "source": [
    "dir(mail)"
   ]
  },
  {
   "cell_type": "markdown",
   "metadata": {},
   "source": [
    "### Day - 14 Question\n",
    "27-06-2024\n",
    "\n",
    "1. Send a automated mail using Python."
   ]
  },
  {
   "cell_type": "markdown",
   "metadata": {},
   "source": [
    "# -----------------------------------\n",
    "# Day - 15\n",
    "\n",
    "28-06-2024\n",
    "\n",
    "### Mail automation - Part 2\n"
   ]
  },
  {
   "cell_type": "code",
   "execution_count": 33,
   "metadata": {},
   "outputs": [],
   "source": [
    "# Demo\n",
    "\n",
    "import win32com.client as client\n",
    "\n",
    "outlook = client.Dispatch(\"Outlook.Application\")\n",
    "\n",
    "def create_mail(mail_to, html_body):\n",
    "    mail = outlook.CreateItem(0)\n",
    "    mail.To = mail_to\n",
    "    mail.Subject = \"Just an normal hi\"\n",
    "    mail.HTMLBody = html_body\n",
    "    mail.Display()\n",
    "\n",
    "\n",
    "with open(\"users.txt\", 'r') as file:\n",
    "    for line in file:\n",
    "        name = line.split(\",\")[0].strip()\n",
    "        mail_id = line.split(\",\")[1].strip()\n",
    "\n",
    "        html_body = f'''\n",
    "        Hey {name.split(\" \")[0]},\n",
    "        <br><br>\n",
    "\n",
    "        Good Day!!\n",
    "        <br>\n",
    "        Long time no see, I hope you are well, see you soon :)\n",
    "\n",
    "        <br><br>\n",
    "        Regards,\n",
    "        <br>\n",
    "        Arup Das\n",
    "'''\n",
    "        create_mail(mail_id, html_body)\n"
   ]
  },
  {
   "cell_type": "code",
   "execution_count": 31,
   "metadata": {},
   "outputs": [],
   "source": [
    "mail_temp = \"\"\n",
    "with open(\"Mail_Templates\\\\mail_template_3\") as file:\n",
    "    mail_temp = file.read()\n",
    "\n",
    "mail = outlook.CreateItem(0)\n",
    "mail.To = \"mail_to\"\n",
    "mail.Subject = \"Just an normal hi\"\n",
    "mail.HTMLBody = mail_temp\n",
    "mail.Display()"
   ]
  },
  {
   "cell_type": "code",
   "execution_count": 1,
   "metadata": {},
   "outputs": [],
   "source": [
    "import win32com.client as client\n",
    "\n",
    "outlook = client.Dispatch(\"Outlook.Application\")\n",
    "\n"
   ]
  },
  {
   "cell_type": "code",
   "execution_count": 3,
   "metadata": {},
   "outputs": [],
   "source": [
    "def create_mail(to_mail, body):\n",
    "    mail = outlook.CreateItem(0)\n",
    "    mail.To = to_mail\n",
    "    mail.HTMLBody = body\n",
    "    mail.Subject = \"This is an Subject Line\"\n",
    "    mail.Display()\n",
    "    mail.Send()"
   ]
  },
  {
   "cell_type": "code",
   "execution_count": 2,
   "metadata": {},
   "outputs": [
    {
     "name": "stdout",
     "output_type": "stream",
     "text": [
      "Subham -> subham.singha@techkuji.com\n",
      "Najesh -> najesh.rashid@techkuji.com\n",
      "Bikash -> bikash.guragai@techkuji.com\n"
     ]
    }
   ],
   "source": [
    "import win32com.client as client\n",
    "\n",
    "outlook = client.Dispatch(\"Outlook.Application\")\n",
    "\n",
    "with open(\"users.txt\", \"r\") as file:\n",
    "    for line in file:\n",
    "        f_name = line.split(\",\")[0].split(\" \")[0]\n",
    "        to_mail = line.split(\",\")[1].strip()\n",
    "\n",
    "        html_body = f'''\n",
    "        Hey {f_name}!!\n",
    "\n",
    "        <br><br>\n",
    "        How are you doing??\n",
    "        <br><br>\n",
    "\n",
    "        Regards,\n",
    "        <br>\n",
    "        Arup Das\n",
    "'''\n",
    "        print(f\"{f_name} -> {to_mail}\")\n",
    "        \n",
    "        mail = outlook.CreateItem(0)\n",
    "        mail.To = to_mail\n",
    "        mail.HTMLBody = html_body\n",
    "        mail.Subject = \"This is an Subject Line\"\n",
    "        mail.Display()\n"
   ]
  },
  {
   "cell_type": "code",
   "execution_count": 39,
   "metadata": {},
   "outputs": [],
   "source": [
    "one_line = \"Subham singha, subham.singha@techkuji.com\""
   ]
  },
  {
   "cell_type": "code",
   "execution_count": 45,
   "metadata": {},
   "outputs": [
    {
     "data": {
      "text/plain": [
       "'Subham'"
      ]
     },
     "execution_count": 45,
     "metadata": {},
     "output_type": "execute_result"
    }
   ],
   "source": [
    "one_line.split(\",\")[0].split(\" \")[0]"
   ]
  },
  {
   "cell_type": "code",
   "execution_count": 49,
   "metadata": {},
   "outputs": [
    {
     "data": {
      "text/plain": [
       "'subham.singha@techkuji.com'"
      ]
     },
     "execution_count": 49,
     "metadata": {},
     "output_type": "execute_result"
    }
   ],
   "source": [
    "one_line.split(\",\")[1].strip()"
   ]
  },
  {
   "cell_type": "code",
   "execution_count": null,
   "metadata": {},
   "outputs": [],
   "source": []
  },
  {
   "cell_type": "code",
   "execution_count": null,
   "metadata": {},
   "outputs": [],
   "source": []
  },
  {
   "cell_type": "code",
   "execution_count": null,
   "metadata": {},
   "outputs": [],
   "source": []
  },
  {
   "cell_type": "code",
   "execution_count": null,
   "metadata": {},
   "outputs": [],
   "source": []
  },
  {
   "cell_type": "markdown",
   "metadata": {},
   "source": [
    "### Day - 15 Question\n",
    "28-06-2024\n",
    "\n",
    "1. Save ( Arup Das, arup.das@dxc.com ) in a file then read it and send an automated mail attaching that file using Python."
   ]
  },
  {
   "cell_type": "markdown",
   "metadata": {},
   "source": [
    "# ---------------------------------------------\n",
    "\n",
    "# Week - 3 Recap\n",
    "\n",
    "Day - 1, 2 : Classes and Objects\n",
    "\n",
    "Day - 3 : File Handling\n",
    "\n",
    "Day - 4, 5 : Email template generation and formatting\n",
    "\n"
   ]
  },
  {
   "cell_type": "code",
   "execution_count": 3,
   "metadata": {},
   "outputs": [],
   "source": [
    "def my_func():\n",
    "    print(\"Something...\")"
   ]
  },
  {
   "cell_type": "code",
   "execution_count": 49,
   "metadata": {},
   "outputs": [],
   "source": [
    "def get_gmail(f_name, l_name):\n",
    "    return f'{f_name}.{l_name}@dxc.com'.lower()"
   ]
  },
  {
   "cell_type": "code",
   "execution_count": 10,
   "metadata": {},
   "outputs": [],
   "source": [
    "first_n = \"Arup\"\n",
    "last_n = \"Das\""
   ]
  },
  {
   "cell_type": "code",
   "execution_count": 7,
   "metadata": {},
   "outputs": [
    {
     "name": "stdout",
     "output_type": "stream",
     "text": [
      "arup.das@dxc.com\n"
     ]
    }
   ],
   "source": [
    "print(f'{first_n}.{last_n}@dxc.com'.lower())"
   ]
  },
  {
   "cell_type": "code",
   "execution_count": 11,
   "metadata": {},
   "outputs": [
    {
     "data": {
      "text/plain": [
       "'arup.das@dxc.com'"
      ]
     },
     "execution_count": 11,
     "metadata": {},
     "output_type": "execute_result"
    }
   ],
   "source": [
    "get_gmail(\"Arup\", \"Das\")"
   ]
  },
  {
   "cell_type": "code",
   "execution_count": 12,
   "metadata": {},
   "outputs": [
    {
     "data": {
      "text/plain": [
       "'rajeev.jha@dxc.com'"
      ]
     },
     "execution_count": 12,
     "metadata": {},
     "output_type": "execute_result"
    }
   ],
   "source": [
    "get_gmail(\"Rajeev\", \"Jha\")"
   ]
  },
  {
   "cell_type": "code",
   "execution_count": 8,
   "metadata": {},
   "outputs": [
    {
     "name": "stdout",
     "output_type": "stream",
     "text": [
      "rajeev.jha@dxc.com\n"
     ]
    }
   ],
   "source": [
    "first_n = \"Rajeev\"\n",
    "last_n = \"Jha\"\n",
    "print(f'{first_n}.{last_n}@dxc.com'.lower())"
   ]
  },
  {
   "cell_type": "code",
   "execution_count": 13,
   "metadata": {},
   "outputs": [],
   "source": [
    "name = \"Python\""
   ]
  },
  {
   "cell_type": "code",
   "execution_count": 14,
   "metadata": {},
   "outputs": [
    {
     "data": {
      "text/plain": [
       "'python'"
      ]
     },
     "execution_count": 14,
     "metadata": {},
     "output_type": "execute_result"
    }
   ],
   "source": [
    "name.lower()"
   ]
  },
  {
   "cell_type": "code",
   "execution_count": 15,
   "metadata": {},
   "outputs": [],
   "source": [
    "num = 45"
   ]
  },
  {
   "cell_type": "code",
   "execution_count": 46,
   "metadata": {},
   "outputs": [],
   "source": [
    "class Employee:\n",
    "    def __init__(self, fname, lname):\n",
    "        print(\"Calling constructor...\")\n",
    "        self.fname = fname\n",
    "        self.lname = lname\n",
    "\n",
    "    # def get_gmail(self):\n",
    "    #     return f'{self.fname}.{self.lname}@dxc.com'.lower()\n",
    "\n",
    "    def print_gmail(self):\n",
    "        print(\"Calling print_gmail\")\n",
    "        return get_gmail(self.fname, self.lname)\n",
    "\n",
    "    def print_skills(self):\n",
    "        pass\n",
    "\n",
    "    "
   ]
  },
  {
   "cell_type": "code",
   "execution_count": 47,
   "metadata": {},
   "outputs": [
    {
     "name": "stdout",
     "output_type": "stream",
     "text": [
      "Calling constructor...\n"
     ]
    }
   ],
   "source": [
    "emp_1 = Employee(\"Arup\", \"Das\")"
   ]
  },
  {
   "cell_type": "code",
   "execution_count": 48,
   "metadata": {},
   "outputs": [
    {
     "name": "stdout",
     "output_type": "stream",
     "text": [
      "Calling print_gmail\n",
      "Calling global function...\n",
      "arup.das@dxc.com\n",
      "arup.das@dxc.com\n"
     ]
    }
   ],
   "source": [
    "print(emp_1.print_gmail())"
   ]
  },
  {
   "cell_type": "code",
   "execution_count": null,
   "metadata": {},
   "outputs": [],
   "source": []
  },
  {
   "cell_type": "code",
   "execution_count": 54,
   "metadata": {},
   "outputs": [],
   "source": [
    "def my_func(para1):\n",
    "    print(para1)"
   ]
  },
  {
   "cell_type": "code",
   "execution_count": 55,
   "metadata": {},
   "outputs": [
    {
     "name": "stdout",
     "output_type": "stream",
     "text": [
      "Python\n"
     ]
    }
   ],
   "source": [
    "para2 = \"Python\"\n",
    "my_func(para2)"
   ]
  },
  {
   "cell_type": "code",
   "execution_count": 26,
   "metadata": {},
   "outputs": [
    {
     "name": "stdout",
     "output_type": "stream",
     "text": [
      "Calling constructor...\n"
     ]
    }
   ],
   "source": [
    "emp_2 = Employee(\"Rajeev\", \"Jha\")"
   ]
  },
  {
   "cell_type": "code",
   "execution_count": 24,
   "metadata": {},
   "outputs": [
    {
     "data": {
      "text/plain": [
       "['__class__',\n",
       " '__delattr__',\n",
       " '__dict__',\n",
       " '__dir__',\n",
       " '__doc__',\n",
       " '__eq__',\n",
       " '__format__',\n",
       " '__ge__',\n",
       " '__getattribute__',\n",
       " '__getstate__',\n",
       " '__gt__',\n",
       " '__hash__',\n",
       " '__init__',\n",
       " '__init_subclass__',\n",
       " '__le__',\n",
       " '__lt__',\n",
       " '__module__',\n",
       " '__ne__',\n",
       " '__new__',\n",
       " '__reduce__',\n",
       " '__reduce_ex__',\n",
       " '__repr__',\n",
       " '__setattr__',\n",
       " '__sizeof__',\n",
       " '__str__',\n",
       " '__subclasshook__',\n",
       " '__weakref__',\n",
       " 'fname',\n",
       " 'get_gmail',\n",
       " 'lname']"
      ]
     },
     "execution_count": 24,
     "metadata": {},
     "output_type": "execute_result"
    }
   ],
   "source": [
    "dir(emp_1)"
   ]
  },
  {
   "cell_type": "code",
   "execution_count": 25,
   "metadata": {},
   "outputs": [
    {
     "data": {
      "text/plain": [
       "'arup.das@dxc.com'"
      ]
     },
     "execution_count": 25,
     "metadata": {},
     "output_type": "execute_result"
    }
   ],
   "source": [
    "emp_1.get_gmail()"
   ]
  },
  {
   "cell_type": "code",
   "execution_count": null,
   "metadata": {},
   "outputs": [],
   "source": [
    "emp_1.print_skills()"
   ]
  },
  {
   "cell_type": "code",
   "execution_count": 27,
   "metadata": {},
   "outputs": [
    {
     "data": {
      "text/plain": [
       "'rajeev.jha@dxc.com'"
      ]
     },
     "execution_count": 27,
     "metadata": {},
     "output_type": "execute_result"
    }
   ],
   "source": [
    "emp_2.get_gmail()"
   ]
  },
  {
   "cell_type": "code",
   "execution_count": 28,
   "metadata": {},
   "outputs": [
    {
     "data": {
      "text/plain": [
       "'rajeev.jha@dxc.com'"
      ]
     },
     "execution_count": 28,
     "metadata": {},
     "output_type": "execute_result"
    }
   ],
   "source": [
    "get_gmail(\"Rajeev\", \"Jha\")"
   ]
  },
  {
   "cell_type": "code",
   "execution_count": null,
   "metadata": {},
   "outputs": [],
   "source": []
  }
 ],
 "metadata": {
  "kernelspec": {
   "display_name": "Python 3",
   "language": "python",
   "name": "python3"
  },
  "language_info": {
   "codemirror_mode": {
    "name": "ipython",
    "version": 3
   },
   "file_extension": ".py",
   "mimetype": "text/x-python",
   "name": "python",
   "nbconvert_exporter": "python",
   "pygments_lexer": "ipython3",
   "version": "3.12.0"
  }
 },
 "nbformat": 4,
 "nbformat_minor": 2
}
